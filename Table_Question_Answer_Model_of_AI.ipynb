{
  "cells": [
    {
      "cell_type": "markdown",
      "metadata": {
        "id": "view-in-github",
        "colab_type": "text"
      },
      "source": [
        "<a href=\"https://colab.research.google.com/github/devumarkayani/test1/blob/main/Table_Question_Answer_Model_of_AI.ipynb\" target=\"_parent\"><img src=\"https://colab.research.google.com/assets/colab-badge.svg\" alt=\"Open In Colab\"/></a>"
      ]
    },
    {
      "cell_type": "code",
      "execution_count": null,
      "metadata": {
        "colab": {
          "base_uri": "https://localhost:8080/"
        },
        "id": "dMaMbZW994P7",
        "outputId": "c013c31b-0945-4b23-801d-659ec8ff9585"
      },
      "outputs": [
        {
          "name": "stdout",
          "output_type": "stream",
          "text": [
            "Requirement already satisfied: transformers in /usr/local/lib/python3.10/dist-packages (4.35.2)\n",
            "Requirement already satisfied: filelock in /usr/local/lib/python3.10/dist-packages (from transformers) (3.13.1)\n",
            "Requirement already satisfied: huggingface-hub<1.0,>=0.16.4 in /usr/local/lib/python3.10/dist-packages (from transformers) (0.20.3)\n",
            "Requirement already satisfied: numpy>=1.17 in /usr/local/lib/python3.10/dist-packages (from transformers) (1.25.2)\n",
            "Requirement already satisfied: packaging>=20.0 in /usr/local/lib/python3.10/dist-packages (from transformers) (23.2)\n",
            "Requirement already satisfied: pyyaml>=5.1 in /usr/local/lib/python3.10/dist-packages (from transformers) (6.0.1)\n",
            "Requirement already satisfied: regex!=2019.12.17 in /usr/local/lib/python3.10/dist-packages (from transformers) (2023.12.25)\n",
            "Requirement already satisfied: requests in /usr/local/lib/python3.10/dist-packages (from transformers) (2.31.0)\n",
            "Requirement already satisfied: tokenizers<0.19,>=0.14 in /usr/local/lib/python3.10/dist-packages (from transformers) (0.15.2)\n",
            "Requirement already satisfied: safetensors>=0.3.1 in /usr/local/lib/python3.10/dist-packages (from transformers) (0.4.2)\n",
            "Requirement already satisfied: tqdm>=4.27 in /usr/local/lib/python3.10/dist-packages (from transformers) (4.66.2)\n",
            "Requirement already satisfied: fsspec>=2023.5.0 in /usr/local/lib/python3.10/dist-packages (from huggingface-hub<1.0,>=0.16.4->transformers) (2023.6.0)\n",
            "Requirement already satisfied: typing-extensions>=3.7.4.3 in /usr/local/lib/python3.10/dist-packages (from huggingface-hub<1.0,>=0.16.4->transformers) (4.9.0)\n",
            "Requirement already satisfied: charset-normalizer<4,>=2 in /usr/local/lib/python3.10/dist-packages (from requests->transformers) (3.3.2)\n",
            "Requirement already satisfied: idna<4,>=2.5 in /usr/local/lib/python3.10/dist-packages (from requests->transformers) (3.6)\n",
            "Requirement already satisfied: urllib3<3,>=1.21.1 in /usr/local/lib/python3.10/dist-packages (from requests->transformers) (2.0.7)\n",
            "Requirement already satisfied: certifi>=2017.4.17 in /usr/local/lib/python3.10/dist-packages (from requests->transformers) (2024.2.2)\n"
          ]
        }
      ],
      "source": [
        "pip install transformers"
      ]
    },
    {
      "cell_type": "code",
      "execution_count": 25,
      "metadata": {
        "id": "pngsUGqbBMCP"
      },
      "outputs": [],
      "source": []
    },
    {
      "cell_type": "code",
      "execution_count": 32,
      "metadata": {
        "colab": {
          "base_uri": "https://localhost:8080/"
        },
        "id": "h21XFsjL97sP",
        "outputId": "71cf39ca-f707-4bdb-bdea-23708369df0e"
      },
      "outputs": [
        {
          "output_type": "stream",
          "name": "stdout",
          "text": [
            "['\"7.378 \"']\n"
          ]
        }
      ],
      "source": [
        "# Use a pipeline as a high-level helper\n",
        "from transformers import pipeline\n",
        "table=pd.read_csv(\"/content/output.csv\")\n",
        "# print(table)\n",
        "table=table.head(10)\n",
        "question = \"List of Netherlands Happiness score\"\n",
        "\n",
        "tqa1 = pipeline(\"table-question-answering\", model=\"Meena/table-question-answering-tapas\")\n",
        "result = tqa1(table=table, query=question)\n",
        "\n",
        "\n",
        "\n",
        "if result.get('cells'):\n",
        "\n",
        "    print(result['cells'])\n",
        "else:\n",
        "    print(\"No answer found.\")"
      ]
    },
    {
      "cell_type": "code",
      "execution_count": 33,
      "metadata": {
        "colab": {
          "base_uri": "https://localhost:8080/"
        },
        "id": "g3Qzd-c-CImk",
        "outputId": "4f7cb455-af88-4dfb-aba9-731b08135057"
      },
      "outputs": [
        {
          "output_type": "stream",
          "name": "stdout",
          "text": [
            "{'answer': 'SUM > \"7.587 \", \"7.561 \", \"7.527 \", \"7.522 \", \"7.427 \", \"7.406 \", \"7.378 \", \"7.364 \", \"7.286 \", \"7.284 \"', 'coordinates': [(0, 3), (1, 3), (2, 3), (3, 3), (4, 3), (5, 3), (6, 3), (7, 3), (8, 3), (9, 3)], 'cells': ['\"7.587 \"', '\"7.561 \"', '\"7.527 \"', '\"7.522 \"', '\"7.427 \"', '\"7.406 \"', '\"7.378 \"', '\"7.364 \"', '\"7.286 \"', '\"7.284 \"'], 'aggregator': 'SUM'}\n"
          ]
        }
      ],
      "source": [
        "from transformers import pipeline\n",
        "import pandas as pd\n",
        "\n",
        "import csv\n",
        "\n",
        "# # Function to convert CSV data to the desired format\n",
        "# def convert_csv_to_string(input_file, output_file):\n",
        "#     with open(input_file, 'r', newline='') as csv_input, open(output_file, 'w', newline='') as csv_output:\n",
        "#         reader = csv.reader(csv_input)\n",
        "#         writer = csv.writer(csv_output)\n",
        "\n",
        "#         for row in reader:\n",
        "#             converted_row = ['\"{0} \"'.format(value) for value in row]  # Enclose each value in double quotes and append a space\n",
        "#             writer.writerow(converted_row)\n",
        "\n",
        "# # Example usage\n",
        "# input_file = \"/content/2015.csv\"\n",
        "# output_file = 'output.csv'\n",
        "# convert_csv_to_string(input_file, output_file)\n",
        "\n",
        "# table=output_file\n",
        "\n",
        "\n",
        "table=pd.read_csv(\"/content/output.csv\")\n",
        "# print(table)\n",
        "table=table.head(10)\n",
        "# prepare table + question\n",
        "# data = {\"Actors\": [\"Brad Pitt\", \"Leonardo Di Caprio\", \"George Clooney\"], \"Number of movies\": [\"87\", \"53\", \"69\"]}\n",
        "# table = pd.DataFrame.from_dict(data)\n",
        "# question = \"how many movies does Leonardo Di Caprio have?\"\n",
        "question = \"List of Sum of all Happiness score\"\n",
        "# pipeline model\n",
        "# Note: you must to install torch-scatter first.\n",
        "tqa = pipeline(task=\"table-question-answering\", model=\"google/tapas-large-finetuned-wtq\")\n",
        "\n",
        "# result\n",
        "\n",
        "# print(tqa(table=table, query=question)['cells'][0])\n",
        "#53\n",
        "result = tqa(table=table, query=question)\n",
        "\n",
        "\n",
        "\n",
        "if result.get('cells'):\n",
        "\n",
        "    print(result)\n",
        "else:\n",
        "    print(\"No answer found.\")\n"
      ]
    },
    {
      "cell_type": "code",
      "execution_count": 24,
      "metadata": {
        "colab": {
          "base_uri": "https://localhost:8080/"
        },
        "id": "JO7zi-MqZLKN",
        "outputId": "84b2ff61-322d-47bc-c319-482a65e02b31"
      },
      "outputs": [
        {
          "output_type": "stream",
          "name": "stderr",
          "text": [
            "You passed along `num_labels=3` with an incompatible id to label map: {'0': 'Refused', '1': 'Entailed'}. The number of labels wil be overwritten to 2.\n"
          ]
        },
        {
          "output_type": "stream",
          "name": "stdout",
          "text": [
            "Entailed\n"
          ]
        }
      ],
      "source": [
        "from transformers import TapexTokenizer, BartForSequenceClassification\n",
        "import pandas as pd\n",
        "\n",
        "tokenizer = TapexTokenizer.from_pretrained(\"microsoft/tapex-large-finetuned-tabfact\")\n",
        "model = BartForSequenceClassification.from_pretrained(\"microsoft/tapex-large-finetuned-tabfact\")\n",
        "\n",
        "data = {\n",
        "    \"year\": [1896, 1900, 1904, 2004, 2008, 2012],\n",
        "    \"city\": [\"athens\", \"paris\", \"st. louis\", \"athens\", \"beijing\", \"london\"]\n",
        "}\n",
        "table = pd.DataFrame.from_dict(data)\n",
        "\n",
        "# tapex accepts uncased input since it is pre-trained on the uncased corpus\n",
        "query = \"beijing hosts the olympic games in 2008\"\n",
        "encoding = tokenizer(table=table, query=query, return_tensors=\"pt\")\n",
        "\n",
        "outputs = model(**encoding)\n",
        "output_id = int(outputs.logits[0].argmax(dim=0))\n",
        "print(model.config.id2label[output_id])\n",
        "# Refused\n"
      ]
    }
  ],
  "metadata": {
    "colab": {
      "provenance": [],
      "authorship_tag": "ABX9TyOvtkPHTiI1VPWjwCpy8CTn",
      "include_colab_link": true
    },
    "kernelspec": {
      "display_name": "Python 3",
      "name": "python3"
    },
    "language_info": {
      "name": "python"
    }
  },
  "nbformat": 4,
  "nbformat_minor": 0
}